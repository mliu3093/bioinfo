{
  "nbformat": 4,
  "nbformat_minor": 0,
  "metadata": {
    "colab": {
      "name": "PG HW 2 naive exact matching algorithm",
      "provenance": []
    },
    "kernelspec": {
      "name": "python3",
      "display_name": "Python 3"
    },
    "language_info": {
      "name": "python"
    }
  },
  "cells": [
    {
      "cell_type": "code",
      "source": [
        "from bm_preproc import *"
      ],
      "metadata": {
        "colab": {
          "base_uri": "https://localhost:8080/",
          "height": 304
        },
        "id": "8il2ZHZtvdeK",
        "outputId": "8bca0c03-429d-4131-e61c-1dbd0b527b3b"
      },
      "execution_count": 12,
      "outputs": [
        {
          "output_type": "error",
          "ename": "ModuleNotFoundError",
          "evalue": "ignored",
          "traceback": [
            "\u001b[0;31m---------------------------------------------------------------------------\u001b[0m",
            "\u001b[0;31mModuleNotFoundError\u001b[0m                       Traceback (most recent call last)",
            "\u001b[0;32m<ipython-input-12-ce53a4ef5832>\u001b[0m in \u001b[0;36m<module>\u001b[0;34m()\u001b[0m\n\u001b[0;32m----> 1\u001b[0;31m \u001b[0;32mfrom\u001b[0m \u001b[0mbm_preproc\u001b[0m \u001b[0;32mimport\u001b[0m \u001b[0;34m*\u001b[0m\u001b[0;34m\u001b[0m\u001b[0;34m\u001b[0m\u001b[0m\n\u001b[0m",
            "\u001b[0;31mModuleNotFoundError\u001b[0m: No module named 'bm_preproc'",
            "",
            "\u001b[0;31m---------------------------------------------------------------------------\u001b[0;32m\nNOTE: If your import is failing due to a missing package, you can\nmanually install dependencies using either !pip or !apt.\n\nTo view examples of installing some common dependencies, click the\n\"Open Examples\" button below.\n\u001b[0;31m---------------------------------------------------------------------------\u001b[0m\n"
          ],
          "errorDetails": {
            "actions": [
              {
                "action": "open_url",
                "actionText": "Open Examples",
                "url": "/notebooks/snippets/importing_libraries.ipynb"
              }
            ]
          }
        }
      ]
    },
    {
      "cell_type": "code",
      "source": [
        "def boyer_moore_with_counts(p, p_bm, t):\n",
        "    \"\"\" Do Boyer-Moore matching. p=pattern, t=text,\n",
        "        p_bm=BoyerMoore object for p \"\"\"\n",
        "    i = 0\n",
        "    occurrences = []\n",
        "    numAlignments = 0\n",
        "    numComparisons = 0\n",
        "    while i < len(t) - len(p) + 1:\n",
        "        shift = 1\n",
        "        mismatched = False\n",
        "        numAlignments += 1\n",
        "        for j in range(len(p)-1, -1, -1):\n",
        "            numComparisons += 1\n",
        "            if p[j] != t[i+j]:\n",
        "                skip_bc = p_bm.bad_character_rule(j, t[i+j])\n",
        "                skip_gs = p_bm.good_suffix_rule(j)\n",
        "                shift = max(shift, skip_bc, skip_gs)\n",
        "                mismatched = True\n",
        "                break\n",
        "        if not mismatched:\n",
        "            occurrences.append(i)\n",
        "            skip_gs = p_bm.match_skip()\n",
        "            shift = max(shift, skip_gs)\n",
        "        i += shift\n",
        "    return (occurrences, numAlignments, numComparisons)"
      ],
      "metadata": {
        "id": "wRt54ZwiveYL"
      },
      "execution_count": 13,
      "outputs": []
    },
    {
      "cell_type": "code",
      "source": [
        "def naive_with_counts(p, t):\n",
        "    occurrences = []\n",
        "    numAlignments = 0\n",
        "    numComparisons = 0\n",
        "    for i in range(len(t) - len(p) + 1):\n",
        "        match = True\n",
        "        numAlignments += 1\n",
        "        for j in range(len(p)):\n",
        "            numComparisons += 1\n",
        "            if p[j] != t[i+j]:\n",
        "                match = False\n",
        "                break\n",
        "        if match:\n",
        "            occurrences.append(i)\n",
        "    return (occurrences, numAlignments, numComparisons)"
      ],
      "metadata": {
        "id": "U32zVbBNvgEe"
      },
      "execution_count": 15,
      "outputs": []
    },
    {
      "cell_type": "code",
      "source": [
        "p = 'word'\n",
        "t = 'there would have been a time for such a word'\n",
        "occurrences, num_alignments, num_character_comparisons = naive_with_counts(p, t)\n",
        "print(occurrences, num_alignments, num_character_comparisons)"
      ],
      "metadata": {
        "colab": {
          "base_uri": "https://localhost:8080/"
        },
        "id": "WqTBHWSjvh0I",
        "outputId": "ad2570e7-3239-41e8-ae6a-a2c0b37d81f4"
      },
      "execution_count": 16,
      "outputs": [
        {
          "output_type": "stream",
          "name": "stdout",
          "text": [
            "[40] 41 46\n"
          ]
        }
      ]
    },
    {
      "cell_type": "code",
      "source": [
        "p = 'needle'\n",
        "t = 'needle need noodle needle'\n",
        "occurrences, num_alignments, num_character_comparisons = naive_with_counts(p, t)\n",
        "print(occurrences, num_alignments, num_character_comparisons)"
      ],
      "metadata": {
        "colab": {
          "base_uri": "https://localhost:8080/"
        },
        "id": "i58Y4HyrvlMd",
        "outputId": "8199cf60-4799-47b8-b6b8-8be9662be0c7"
      },
      "execution_count": 18,
      "outputs": [
        {
          "output_type": "stream",
          "name": "stdout",
          "text": [
            "[0, 19] 20 35\n"
          ]
        }
      ]
    },
    {
      "cell_type": "code",
      "source": [
        "p = 'needle'\n",
        "t = 'needle need noodle needle'\n",
        "p_bm = BoyerMoore(p, lowercase_alphabet)\n",
        "occurrences, num_alignments, num_character_comparisons = boyer_moore_with_counts(p, p_bm, t)\n",
        "print(occurrences, num_alignments, num_character_comparisons)"
      ],
      "metadata": {
        "colab": {
          "base_uri": "https://localhost:8080/"
        },
        "id": "9-e4JB0Lvrj8",
        "outputId": "bbb2695d-f906-4f46-a203-60b3ee1e710d"
      },
      "execution_count": 21,
      "outputs": [
        {
          "output_type": "stream",
          "name": "stdout",
          "text": [
            "[0, 19] 5 18\n"
          ]
        }
      ]
    },
    {
      "cell_type": "code",
      "source": [
        "!rm chr1.GRCh38.excerpt.fasta\n",
        "!wget http://d28rh4a8wq0iu5.cloudfront.net/ads1/data/chr1.GRCh38.excerpt.fasta"
      ],
      "metadata": {
        "colab": {
          "base_uri": "https://localhost:8080/"
        },
        "id": "75ipPJVqvtRC",
        "outputId": "60fb5f9a-ad73-4f3a-bb00-a689558be7d3"
      },
      "execution_count": 22,
      "outputs": [
        {
          "output_type": "stream",
          "name": "stdout",
          "text": [
            "rm: cannot remove 'chr1.GRCh38.excerpt.fasta': No such file or directory\n",
            "--2022-01-20 04:31:15--  http://d28rh4a8wq0iu5.cloudfront.net/ads1/data/chr1.GRCh38.excerpt.fasta\n",
            "Resolving d28rh4a8wq0iu5.cloudfront.net (d28rh4a8wq0iu5.cloudfront.net)... 13.32.84.71, 13.32.84.231, 13.32.84.31, ...\n",
            "Connecting to d28rh4a8wq0iu5.cloudfront.net (d28rh4a8wq0iu5.cloudfront.net)|13.32.84.71|:80... connected.\n",
            "HTTP request sent, awaiting response... 200 OK\n",
            "Length: 810105 (791K) [application/octet-stream]\n",
            "Saving to: ‘chr1.GRCh38.excerpt.fasta’\n",
            "\n",
            "chr1.GRCh38.excerpt 100%[===================>] 791.12K  4.90MB/s    in 0.2s    \n",
            "\n",
            "2022-01-20 04:31:16 (4.90 MB/s) - ‘chr1.GRCh38.excerpt.fasta’ saved [810105/810105]\n",
            "\n"
          ]
        }
      ]
    },
    {
      "cell_type": "code",
      "source": [
        "--2015-12-20 22:10:59--  http://d28rh4a8wq0iu5.cloudfront.net/ads1/data/chr1.GRCh38.excerpt.fasta\n",
        "Resolving d28rh4a8wq0iu5.cloudfront.net... 54.240.168.160, 54.240.168.40, 54.240.168.81, ...\n",
        "Connecting to d28rh4a8wq0iu5.cloudfront.net|54.240.168.160|:80... connected.\n",
        "HTTP request sent, awaiting response... 200 OK\n",
        "Length: 810105 (791K) [application/octet-stream]\n",
        "Saving to: 'chr1.GRCh38.excerpt.fasta'\n",
        "\n",
        "chr1.GRCh38.excerpt 100%[===================>] 791.12K  --.-KB/s    in 0.1s    \n",
        "\n",
        "2015-12-20 22:11:00 (5.77 MB/s) - 'chr1.GRCh38.excerpt.fasta' saved [810105/810105]\n"
      ],
      "metadata": {
        "colab": {
          "base_uri": "https://localhost:8080/",
          "height": 130
        },
        "id": "hM0lgcgwvukt",
        "outputId": "02e63a4f-2639-42c3-9a5a-1b70a272f8fd"
      },
      "execution_count": 23,
      "outputs": [
        {
          "output_type": "error",
          "ename": "SyntaxError",
          "evalue": "ignored",
          "traceback": [
            "\u001b[0;36m  File \u001b[0;32m\"<ipython-input-23-b56db20e6b3e>\"\u001b[0;36m, line \u001b[0;32m1\u001b[0m\n\u001b[0;31m    --2015-12-20 22:10:59--  http://d28rh4a8wq0iu5.cloudfront.net/ads1/data/chr1.GRCh38.excerpt.fasta\u001b[0m\n\u001b[0m                  ^\u001b[0m\n\u001b[0;31mSyntaxError\u001b[0m\u001b[0;31m:\u001b[0m invalid syntax\n"
          ]
        }
      ]
    },
    {
      "cell_type": "code",
      "source": [
        "def readGenome(filename):\n",
        "    genome = ''\n",
        "    with open(filename, 'r') as f:\n",
        "        for line in f:\n",
        "            # ignore header line with genome information\n",
        "            if not line[0] == '>':\n",
        "                genome += line.rstrip()\n",
        "    return genome"
      ],
      "metadata": {
        "id": "tw6svOl2vw2Q"
      },
      "execution_count": 24,
      "outputs": []
    },
    {
      "cell_type": "code",
      "source": [
        "human_ex = readGenome('chr1.GRCh38.excerpt.fasta')"
      ],
      "metadata": {
        "id": "D-w0qADQvyrz"
      },
      "execution_count": 25,
      "outputs": []
    },
    {
      "cell_type": "code",
      "source": [
        "# Question 1\n",
        "# How many alignments does the naive exact matching algorithm try \n",
        "# when matching the string GGCGCGGTGGCTCACGCCTGTAATCCCAGCACTTTGGGAGGCCGAGG \n",
        "# (derived from human Alu sequences) to the excerpt of human chromosome 1? \n",
        "# (Don't consider reverse complements.)\n",
        "\n",
        "# Question 2\n",
        "# How many character comparisons does the naive exact matching algorithm \n",
        "# try when matching the string GGCGCGGTGGCTCACGCCTGTAATCCCAGCACTTTGGGAGGCCGAGG \n",
        "# (derived from human Alu sequences) to the excerpt of human chromosome 1?  \n",
        "#(Don't consider reverse complements.)\n",
        "\n",
        "p = 'GGCGCGGTGGCTCACGCCTGTAATCCCAGCACTTTGGGAGGCCGAGG'\n",
        "t = human_ex\n",
        "occurrences, num_alignments, num_character_comparisons = naive_with_counts(p, t)\n",
        "print(occurrences, num_alignments, num_character_comparisons)"
      ],
      "metadata": {
        "colab": {
          "base_uri": "https://localhost:8080/"
        },
        "id": "U4x7E01cvzJq",
        "outputId": "04c96d48-ef78-4ab4-9274-12683ea9a41f"
      },
      "execution_count": 26,
      "outputs": [
        {
          "output_type": "stream",
          "name": "stdout",
          "text": [
            "[56922] 799954 984143\n"
          ]
        }
      ]
    },
    {
      "cell_type": "code",
      "source": [
        "# Question 3\n",
        "# How many alignments does Boyer-Moore try when matching the string \n",
        "# GGCGCGGTGGCTCACGCCTGTAATCCCAGCACTTTGGGAGGCCGAGG (derived from human Alu sequences) to \n",
        "# the excerpt of human chromosome 1? (Don't consider reverse complements.)\n",
        "\n",
        "p = 'GGCGCGGTGGCTCACGCCTGTAATCCCAGCACTTTGGGAGGCCGAGG'\n",
        "t = human_ex\n",
        "p_bm = BoyerMoore(p)\n",
        "occurrences, num_alignments, num_character_comparisons = boyer_moore_with_counts(p, p_bm, t)\n",
        "print(occurrences, num_alignments, num_character_comparisons)"
      ],
      "metadata": {
        "colab": {
          "base_uri": "https://localhost:8080/"
        },
        "id": "sCHSe7hpwn3n",
        "outputId": "2b878365-0dc5-4b9b-d390-e9c41bde75a6"
      },
      "execution_count": 27,
      "outputs": [
        {
          "output_type": "stream",
          "name": "stdout",
          "text": [
            "[56922] 127974 165191\n"
          ]
        }
      ]
    }
  ]
}